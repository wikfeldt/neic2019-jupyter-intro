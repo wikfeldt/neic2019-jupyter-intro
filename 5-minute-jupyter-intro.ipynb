{
 "cells": [
  {
   "cell_type": "markdown",
   "metadata": {},
   "source": [
    "# Jupyter Notebooks"
   ]
  },
  {
   "cell_type": "markdown",
   "metadata": {},
   "source": [
    "- Spin-off project from IPython in 2014. The notebook and other language-agnostic parts of IPython were moved to Project Jupyter.\n",
    "- \"Jupyter\" derives from Julia+Python+R, but today Jupyter kernels exist for [dozens of programming languages](https://github.com/jupyter/jupyter/wiki/Jupyter-kernels).\n",
    "- The number of notebooks on GitHub is in the millions, [and steeply rising](https://github.com/parente/nbestimate).\n",
    "- Quickly becoming the [computational notebook of choice](https://www.nature.com/articles/d41586-018-07196-1) for scientists working with data."
   ]
  },
  {
   "cell_type": "markdown",
   "metadata": {},
   "source": [
    "![logo](img/jupyter_logo.png)"
   ]
  },
  {
   "cell_type": "markdown",
   "metadata": {},
   "source": [
    "---"
   ]
  },
  {
   "cell_type": "markdown",
   "metadata": {},
   "source": [
    "## So how do notebooks work?"
   ]
  },
  {
   "cell_type": "markdown",
   "metadata": {},
   "source": [
    "It's a web app:"
   ]
  },
  {
   "cell_type": "markdown",
   "metadata": {},
   "source": [
    "![components](img/notebook_components.png)"
   ]
  },
  {
   "cell_type": "markdown",
   "metadata": {},
   "source": [
    "### Cells"
   ]
  },
  {
   "cell_type": "markdown",
   "metadata": {},
   "source": [
    "The user types text and code into markdown and code cells."
   ]
  },
  {
   "cell_type": "markdown",
   "metadata": {},
   "source": [
    "#### This cell contains simple markdown\n",
    "\n",
    "- **Bold**, *italics*, **_combined_**, ~~strikethrough~~, `inline code`.\n",
    "- Equations written in LaTeX: $e^{i\\pi} + 1 = 0$ \n",
    "- Images:  \n",
    "![logo](https://jupyter.readthedocs.io/en/latest/_static/_images/jupyter.svg)"
   ]
  },
  {
   "cell_type": "markdown",
   "metadata": {},
   "source": [
    "#### Code cells get sent to the kernel"
   ]
  },
  {
   "cell_type": "code",
   "execution_count": null,
   "metadata": {},
   "outputs": [],
   "source": [
    "# a code cell can run statements of code.\n",
    "# when you run this cell, the output is sent \n",
    "# from the web page to a back-end process, run \n",
    "# and the results are displayed to you\n",
    "print(\"hello world\")"
   ]
  },
  {
   "cell_type": "code",
   "execution_count": 11,
   "metadata": {},
   "outputs": [],
   "source": [
    "# The output area below the cell can show graphics\n",
    "# %load https://matplotlib.org/mpl_examples/axes_grid/scatter_hist.py"
   ]
  },
  {
   "cell_type": "markdown",
   "metadata": {},
   "source": [
    "---"
   ]
  },
  {
   "cell_type": "markdown",
   "metadata": {},
   "source": [
    "**Notebooks aren't limited to only one programming language**:\n",
    "- languages can be mixed (e.g. Python and R though the `rpy2` package)\n",
    "- *magic commands* provide additional functionality for reading/writing/transfering files, debugging, profiling, mixing languages, ..."
   ]
  },
  {
   "cell_type": "code",
   "execution_count": null,
   "metadata": {},
   "outputs": [],
   "source": [
    "%lsmagic"
   ]
  },
  {
   "cell_type": "markdown",
   "metadata": {},
   "source": [
    "---"
   ]
  },
  {
   "cell_type": "markdown",
   "metadata": {},
   "source": [
    "### Why are notebooks popular?"
   ]
  },
  {
   "cell_type": "markdown",
   "metadata": {},
   "source": [
    "- Ideal for creating and sharing *computational narratives* interweaving code, text, equations, graphs, ...\n",
    "- Ideal as a digital lab notebook\n",
    "- Interactive, fast prototyping\n",
    "- *Reproducibility* - sharing analysis with colleagues, publishing as supplementary info"
   ]
  },
  {
   "cell_type": "markdown",
   "metadata": {},
   "source": [
    "---"
   ]
  },
  {
   "cell_type": "markdown",
   "metadata": {},
   "source": [
    "### [Some pitfalls](https://scicomp.aalto.fi/scicomp/jupyter-pitfalls.html)\n",
    "\n",
    "- Notebooks don't encourage modular code development\n",
    " - Solution: When you find yourself copy-pasting between notebooks, split code into modules and import them in notebook.\n",
    "- Difficult to test well\n",
    " - Solution: Include lots of mini-tests and assertions, and split into testable modules.\n",
    "- Historically not easy to version control\n",
    " - Solution: install [nbdime](https://nbdime.readthedocs.io/en/latest/) and the Git integration to JupyterLab.\n",
    "- Hidden state hampers reproducibility\n",
    " - Solution: Use \"Restart and run all\" regularly (although this defeats the purpuse of keeping results in memory).\n",
    "- Notebooks aren't named by default and their purpose tends to drift\n",
    " - Solution: Name notebooks well, and take time to sort code well when you notice feature drifting.\n",
    "- Difficult to integrate into other execution systems\n",
    " - Solution: Same as for modular code. Use notebooks to explore, scripts to run in bulk."
   ]
  },
  {
   "cell_type": "markdown",
   "metadata": {},
   "source": [
    "---"
   ]
  },
  {
   "cell_type": "markdown",
   "metadata": {},
   "source": [
    "### Research computing use cases"
   ]
  },
  {
   "cell_type": "markdown",
   "metadata": {},
   "source": [
    "Notebooks can also be used as web front-ends to research computing facilities. \n",
    "\n",
    "Multiple platforms offer free and paid services for running notebooks in the cloud:\n",
    "- [Binder](https://mybinder.org/)\n",
    "- [CodeOcean](https://codeocean.com/)\n",
    "- [Google Colab](https://colab.research.google.com/)\n",
    "- [Microsoft Azure](https://notebooks.azure.com/)\n",
    "- [CoCalc](https://cocalc.com/) \n",
    "- etc."
   ]
  },
  {
   "cell_type": "markdown",
   "metadata": {},
   "source": [
    "**Running notebooks on a cluster**\n",
    "\n",
    "Even without a JupyterHub deployment, several use cases are possible.  \n",
    "\n",
    "For example, a user can log in to cluster via ssh and, depending on how things have been configured:\n",
    "1. Start Jupyter server on login (or other shared) node to run light-weight pre- or post-processing work.\n",
    "2. Start Jupyter server in a batch job, connect to it and run interactively on compute node.\n",
    "3. Install a package like [slurm-magic](https://github.com/NERSC/slurm-magic), and use it to submit and monitor SLURM jobs from a Jupyter server running on the login node.\n"
   ]
  },
  {
   "cell_type": "markdown",
   "metadata": {},
   "source": [
    "> A Jupyter notebook can be used to develop and document HPC workflows which can then be shared among colleagues. This can help new HPC users get started."
   ]
  },
  {
   "cell_type": "markdown",
   "metadata": {},
   "source": [
    "---"
   ]
  },
  {
   "cell_type": "markdown",
   "metadata": {},
   "source": [
    "**What's missing?**"
   ]
  },
  {
   "cell_type": "markdown",
   "metadata": {},
   "source": [
    "The workflows above don't address some key usability issues: \n",
    "\n",
    "- login, setting up ssh-keys, PuTTY, Kerberos, ...\n",
    "- required command line skills\n",
    "- required familiarity with SLURM and environment modules\n",
    "- users may need to create their own environment with packages and libraries"
   ]
  },
  {
   "cell_type": "markdown",
   "metadata": {},
   "source": [
    "![JupyterHub](img/jupyterhub_logo.png)"
   ]
  },
  {
   "cell_type": "code",
   "execution_count": null,
   "metadata": {},
   "outputs": [],
   "source": []
  }
 ],
 "metadata": {
  "kernelspec": {
   "display_name": "Python 3",
   "language": "python",
   "name": "python3"
  },
  "language_info": {
   "codemirror_mode": {
    "name": "ipython",
    "version": 3
   },
   "file_extension": ".py",
   "mimetype": "text/x-python",
   "name": "python",
   "nbconvert_exporter": "python",
   "pygments_lexer": "ipython3",
   "version": "3.6.7"
  }
 },
 "nbformat": 4,
 "nbformat_minor": 2
}
